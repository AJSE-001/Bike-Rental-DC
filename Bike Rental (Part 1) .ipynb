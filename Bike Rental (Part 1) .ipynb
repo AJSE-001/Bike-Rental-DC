{
 "cells": [
  {
   "cell_type": "markdown",
   "id": "2f169d13-0647-4fa8-9f3a-5052c90e158e",
   "metadata": {},
   "source": [
    "# Ann John\n",
    "# Matriculation No.50784111"
   ]
  },
  {
   "cell_type": "markdown",
   "id": "0a5dc4a9-7bd1-4810-9ed4-03d281e3cb4f",
   "metadata": {},
   "source": [
    "# Part I: Data Manipulation and Analysis"
   ]
  },
  {
   "cell_type": "markdown",
   "id": "67ee898d-1948-4b98-9225-3b2fdfb859e7",
   "metadata": {},
   "source": [
    "### 1. Import the dataset into a pandas dataframe. Make sure that the date column is in pandas data time format"
   ]
  },
  {
   "cell_type": "code",
   "execution_count": 2,
   "id": "e30565ff-139d-41fa-83f8-6e1f4054c96f",
   "metadata": {},
   "outputs": [],
   "source": [
    "import pandas as pd"
   ]
  },
  {
   "cell_type": "code",
   "execution_count": 3,
   "id": "6f194abe-739f-4c60-aaf1-a1d7373a761d",
   "metadata": {},
   "outputs": [],
   "source": [
    "df = pd.read_csv('train.csv')\n",
    "df['datetime'] = pd.to_datetime(df['datetime'])"
   ]
  },
  {
   "cell_type": "code",
   "execution_count": 4,
   "id": "eab7d270-93ed-465d-86ef-324b7afda3e3",
   "metadata": {},
   "outputs": [
    {
     "data": {
      "text/html": [
       "<div>\n",
       "<style scoped>\n",
       "    .dataframe tbody tr th:only-of-type {\n",
       "        vertical-align: middle;\n",
       "    }\n",
       "\n",
       "    .dataframe tbody tr th {\n",
       "        vertical-align: top;\n",
       "    }\n",
       "\n",
       "    .dataframe thead th {\n",
       "        text-align: right;\n",
       "    }\n",
       "</style>\n",
       "<table border=\"1\" class=\"dataframe\">\n",
       "  <thead>\n",
       "    <tr style=\"text-align: right;\">\n",
       "      <th></th>\n",
       "      <th>datetime</th>\n",
       "      <th>season</th>\n",
       "      <th>holiday</th>\n",
       "      <th>workingday</th>\n",
       "      <th>weather</th>\n",
       "      <th>temp</th>\n",
       "      <th>atemp</th>\n",
       "      <th>humidity</th>\n",
       "      <th>windspeed</th>\n",
       "      <th>casual</th>\n",
       "      <th>registered</th>\n",
       "      <th>count</th>\n",
       "    </tr>\n",
       "  </thead>\n",
       "  <tbody>\n",
       "    <tr>\n",
       "      <th>0</th>\n",
       "      <td>2011-01-01 00:00:00</td>\n",
       "      <td>1</td>\n",
       "      <td>0</td>\n",
       "      <td>0</td>\n",
       "      <td>1</td>\n",
       "      <td>9.84</td>\n",
       "      <td>14.395</td>\n",
       "      <td>81</td>\n",
       "      <td>0.0</td>\n",
       "      <td>3</td>\n",
       "      <td>13</td>\n",
       "      <td>16</td>\n",
       "    </tr>\n",
       "    <tr>\n",
       "      <th>1</th>\n",
       "      <td>2011-01-01 01:00:00</td>\n",
       "      <td>1</td>\n",
       "      <td>0</td>\n",
       "      <td>0</td>\n",
       "      <td>1</td>\n",
       "      <td>9.02</td>\n",
       "      <td>13.635</td>\n",
       "      <td>80</td>\n",
       "      <td>0.0</td>\n",
       "      <td>8</td>\n",
       "      <td>32</td>\n",
       "      <td>40</td>\n",
       "    </tr>\n",
       "    <tr>\n",
       "      <th>2</th>\n",
       "      <td>2011-01-01 02:00:00</td>\n",
       "      <td>1</td>\n",
       "      <td>0</td>\n",
       "      <td>0</td>\n",
       "      <td>1</td>\n",
       "      <td>9.02</td>\n",
       "      <td>13.635</td>\n",
       "      <td>80</td>\n",
       "      <td>0.0</td>\n",
       "      <td>5</td>\n",
       "      <td>27</td>\n",
       "      <td>32</td>\n",
       "    </tr>\n",
       "    <tr>\n",
       "      <th>3</th>\n",
       "      <td>2011-01-01 03:00:00</td>\n",
       "      <td>1</td>\n",
       "      <td>0</td>\n",
       "      <td>0</td>\n",
       "      <td>1</td>\n",
       "      <td>9.84</td>\n",
       "      <td>14.395</td>\n",
       "      <td>75</td>\n",
       "      <td>0.0</td>\n",
       "      <td>3</td>\n",
       "      <td>10</td>\n",
       "      <td>13</td>\n",
       "    </tr>\n",
       "    <tr>\n",
       "      <th>4</th>\n",
       "      <td>2011-01-01 04:00:00</td>\n",
       "      <td>1</td>\n",
       "      <td>0</td>\n",
       "      <td>0</td>\n",
       "      <td>1</td>\n",
       "      <td>9.84</td>\n",
       "      <td>14.395</td>\n",
       "      <td>75</td>\n",
       "      <td>0.0</td>\n",
       "      <td>0</td>\n",
       "      <td>1</td>\n",
       "      <td>1</td>\n",
       "    </tr>\n",
       "  </tbody>\n",
       "</table>\n",
       "</div>"
      ],
      "text/plain": [
       "             datetime  season  holiday  workingday  weather  temp   atemp  \\\n",
       "0 2011-01-01 00:00:00       1        0           0        1  9.84  14.395   \n",
       "1 2011-01-01 01:00:00       1        0           0        1  9.02  13.635   \n",
       "2 2011-01-01 02:00:00       1        0           0        1  9.02  13.635   \n",
       "3 2011-01-01 03:00:00       1        0           0        1  9.84  14.395   \n",
       "4 2011-01-01 04:00:00       1        0           0        1  9.84  14.395   \n",
       "\n",
       "   humidity  windspeed  casual  registered  count  \n",
       "0        81        0.0       3          13     16  \n",
       "1        80        0.0       8          32     40  \n",
       "2        80        0.0       5          27     32  \n",
       "3        75        0.0       3          10     13  \n",
       "4        75        0.0       0           1      1  "
      ]
     },
     "execution_count": 4,
     "metadata": {},
     "output_type": "execute_result"
    }
   ],
   "source": [
    "df.head()"
   ]
  },
  {
   "cell_type": "markdown",
   "id": "746f1caa-c731-41bb-bdbd-153fdc916ace",
   "metadata": {},
   "source": [
    "### 2. Check the data type of each column. How many rows are there in the dataset ? Does the dataset contain any missing values ?"
   ]
  },
  {
   "cell_type": "code",
   "execution_count": 5,
   "id": "40badb62-d7fa-40ab-a705-e44f43630448",
   "metadata": {},
   "outputs": [
    {
     "name": "stdout",
     "output_type": "stream",
     "text": [
      "datetime      datetime64[ns]\n",
      "season                 int64\n",
      "holiday                int64\n",
      "workingday             int64\n",
      "weather                int64\n",
      "temp                 float64\n",
      "atemp                float64\n",
      "humidity               int64\n",
      "windspeed            float64\n",
      "casual                 int64\n",
      "registered             int64\n",
      "count                  int64\n",
      "dtype: object\n"
     ]
    }
   ],
   "source": [
    "print(df.dtypes)"
   ]
  },
  {
   "cell_type": "code",
   "execution_count": 6,
   "id": "15a0a903-4e62-43fe-900d-0374367722b5",
   "metadata": {},
   "outputs": [
    {
     "data": {
      "text/plain": [
       "10886"
      ]
     },
     "execution_count": 6,
     "metadata": {},
     "output_type": "execute_result"
    }
   ],
   "source": [
    "df.shape[0]"
   ]
  },
  {
   "cell_type": "markdown",
   "id": "8f766567-5dd2-4e58-b82e-eb1f2458c0dc",
   "metadata": {},
   "source": [
    "#### There are 10886 rows in the dataset."
   ]
  },
  {
   "cell_type": "code",
   "execution_count": 7,
   "id": "70d05128-1d50-437c-abc6-1c5ca2481251",
   "metadata": {},
   "outputs": [
    {
     "name": "stdout",
     "output_type": "stream",
     "text": [
      "datetime      0\n",
      "season        0\n",
      "holiday       0\n",
      "workingday    0\n",
      "weather       0\n",
      "temp          0\n",
      "atemp         0\n",
      "humidity      0\n",
      "windspeed     0\n",
      "casual        0\n",
      "registered    0\n",
      "count         0\n",
      "dtype: int64\n"
     ]
    }
   ],
   "source": [
    "print(df.isnull().sum())"
   ]
  },
  {
   "cell_type": "markdown",
   "id": "2aba0c96-ce9a-4d50-8c95-b241a6b54af1",
   "metadata": {},
   "source": [
    "#### There are no null values in the dataset"
   ]
  },
  {
   "cell_type": "markdown",
   "id": "ae67a20d-2fcb-47ef-a339-dbde8c8bde77",
   "metadata": {},
   "source": [
    "### 3.Using the date column, create new columns for: year, month, day of the week and hour of the day."
   ]
  },
  {
   "cell_type": "code",
   "execution_count": 8,
   "id": "867ddb15-6900-45ec-a3bf-6f34eef8bee1",
   "metadata": {},
   "outputs": [],
   "source": [
    "df['year'] = df['datetime'].dt.year\n",
    "df['month'] = df['datetime'].dt.month\n",
    "df['day_of_week'] = df['datetime'].dt.day_name()\n",
    "df['hour'] = df['datetime'].dt.hour"
   ]
  },
  {
   "cell_type": "markdown",
   "id": "a17ccc73-7d3a-476f-b3d3-966803f4606d",
   "metadata": {},
   "source": [
    "### 4. Rename the values in the season column to spring, summer, fall and winter."
   ]
  },
  {
   "cell_type": "code",
   "execution_count": 9,
   "id": "e8bd1340-c78d-41cd-a520-6294ac58791d",
   "metadata": {},
   "outputs": [],
   "source": [
    "season_map = {1: 'spring', 2: 'summer', 3: 'fall', 4: 'winter'}\n",
    "df['season'] = df['season'].map(season_map)"
   ]
  },
  {
   "cell_type": "code",
   "execution_count": 10,
   "id": "5daf498a-1730-4767-be64-3ae46be820a5",
   "metadata": {},
   "outputs": [
    {
     "data": {
      "text/html": [
       "<div>\n",
       "<style scoped>\n",
       "    .dataframe tbody tr th:only-of-type {\n",
       "        vertical-align: middle;\n",
       "    }\n",
       "\n",
       "    .dataframe tbody tr th {\n",
       "        vertical-align: top;\n",
       "    }\n",
       "\n",
       "    .dataframe thead th {\n",
       "        text-align: right;\n",
       "    }\n",
       "</style>\n",
       "<table border=\"1\" class=\"dataframe\">\n",
       "  <thead>\n",
       "    <tr style=\"text-align: right;\">\n",
       "      <th></th>\n",
       "      <th>datetime</th>\n",
       "      <th>season</th>\n",
       "      <th>holiday</th>\n",
       "      <th>workingday</th>\n",
       "      <th>weather</th>\n",
       "      <th>temp</th>\n",
       "      <th>atemp</th>\n",
       "      <th>humidity</th>\n",
       "      <th>windspeed</th>\n",
       "      <th>casual</th>\n",
       "      <th>registered</th>\n",
       "      <th>count</th>\n",
       "      <th>year</th>\n",
       "      <th>month</th>\n",
       "      <th>day_of_week</th>\n",
       "      <th>hour</th>\n",
       "    </tr>\n",
       "  </thead>\n",
       "  <tbody>\n",
       "    <tr>\n",
       "      <th>0</th>\n",
       "      <td>2011-01-01 00:00:00</td>\n",
       "      <td>spring</td>\n",
       "      <td>0</td>\n",
       "      <td>0</td>\n",
       "      <td>1</td>\n",
       "      <td>9.84</td>\n",
       "      <td>14.395</td>\n",
       "      <td>81</td>\n",
       "      <td>0.0000</td>\n",
       "      <td>3</td>\n",
       "      <td>13</td>\n",
       "      <td>16</td>\n",
       "      <td>2011</td>\n",
       "      <td>1</td>\n",
       "      <td>Saturday</td>\n",
       "      <td>0</td>\n",
       "    </tr>\n",
       "    <tr>\n",
       "      <th>1</th>\n",
       "      <td>2011-01-01 01:00:00</td>\n",
       "      <td>spring</td>\n",
       "      <td>0</td>\n",
       "      <td>0</td>\n",
       "      <td>1</td>\n",
       "      <td>9.02</td>\n",
       "      <td>13.635</td>\n",
       "      <td>80</td>\n",
       "      <td>0.0000</td>\n",
       "      <td>8</td>\n",
       "      <td>32</td>\n",
       "      <td>40</td>\n",
       "      <td>2011</td>\n",
       "      <td>1</td>\n",
       "      <td>Saturday</td>\n",
       "      <td>1</td>\n",
       "    </tr>\n",
       "    <tr>\n",
       "      <th>2</th>\n",
       "      <td>2011-01-01 02:00:00</td>\n",
       "      <td>spring</td>\n",
       "      <td>0</td>\n",
       "      <td>0</td>\n",
       "      <td>1</td>\n",
       "      <td>9.02</td>\n",
       "      <td>13.635</td>\n",
       "      <td>80</td>\n",
       "      <td>0.0000</td>\n",
       "      <td>5</td>\n",
       "      <td>27</td>\n",
       "      <td>32</td>\n",
       "      <td>2011</td>\n",
       "      <td>1</td>\n",
       "      <td>Saturday</td>\n",
       "      <td>2</td>\n",
       "    </tr>\n",
       "    <tr>\n",
       "      <th>3</th>\n",
       "      <td>2011-01-01 03:00:00</td>\n",
       "      <td>spring</td>\n",
       "      <td>0</td>\n",
       "      <td>0</td>\n",
       "      <td>1</td>\n",
       "      <td>9.84</td>\n",
       "      <td>14.395</td>\n",
       "      <td>75</td>\n",
       "      <td>0.0000</td>\n",
       "      <td>3</td>\n",
       "      <td>10</td>\n",
       "      <td>13</td>\n",
       "      <td>2011</td>\n",
       "      <td>1</td>\n",
       "      <td>Saturday</td>\n",
       "      <td>3</td>\n",
       "    </tr>\n",
       "    <tr>\n",
       "      <th>4</th>\n",
       "      <td>2011-01-01 04:00:00</td>\n",
       "      <td>spring</td>\n",
       "      <td>0</td>\n",
       "      <td>0</td>\n",
       "      <td>1</td>\n",
       "      <td>9.84</td>\n",
       "      <td>14.395</td>\n",
       "      <td>75</td>\n",
       "      <td>0.0000</td>\n",
       "      <td>0</td>\n",
       "      <td>1</td>\n",
       "      <td>1</td>\n",
       "      <td>2011</td>\n",
       "      <td>1</td>\n",
       "      <td>Saturday</td>\n",
       "      <td>4</td>\n",
       "    </tr>\n",
       "    <tr>\n",
       "      <th>...</th>\n",
       "      <td>...</td>\n",
       "      <td>...</td>\n",
       "      <td>...</td>\n",
       "      <td>...</td>\n",
       "      <td>...</td>\n",
       "      <td>...</td>\n",
       "      <td>...</td>\n",
       "      <td>...</td>\n",
       "      <td>...</td>\n",
       "      <td>...</td>\n",
       "      <td>...</td>\n",
       "      <td>...</td>\n",
       "      <td>...</td>\n",
       "      <td>...</td>\n",
       "      <td>...</td>\n",
       "      <td>...</td>\n",
       "    </tr>\n",
       "    <tr>\n",
       "      <th>10881</th>\n",
       "      <td>2012-12-19 19:00:00</td>\n",
       "      <td>winter</td>\n",
       "      <td>0</td>\n",
       "      <td>1</td>\n",
       "      <td>1</td>\n",
       "      <td>15.58</td>\n",
       "      <td>19.695</td>\n",
       "      <td>50</td>\n",
       "      <td>26.0027</td>\n",
       "      <td>7</td>\n",
       "      <td>329</td>\n",
       "      <td>336</td>\n",
       "      <td>2012</td>\n",
       "      <td>12</td>\n",
       "      <td>Wednesday</td>\n",
       "      <td>19</td>\n",
       "    </tr>\n",
       "    <tr>\n",
       "      <th>10882</th>\n",
       "      <td>2012-12-19 20:00:00</td>\n",
       "      <td>winter</td>\n",
       "      <td>0</td>\n",
       "      <td>1</td>\n",
       "      <td>1</td>\n",
       "      <td>14.76</td>\n",
       "      <td>17.425</td>\n",
       "      <td>57</td>\n",
       "      <td>15.0013</td>\n",
       "      <td>10</td>\n",
       "      <td>231</td>\n",
       "      <td>241</td>\n",
       "      <td>2012</td>\n",
       "      <td>12</td>\n",
       "      <td>Wednesday</td>\n",
       "      <td>20</td>\n",
       "    </tr>\n",
       "    <tr>\n",
       "      <th>10883</th>\n",
       "      <td>2012-12-19 21:00:00</td>\n",
       "      <td>winter</td>\n",
       "      <td>0</td>\n",
       "      <td>1</td>\n",
       "      <td>1</td>\n",
       "      <td>13.94</td>\n",
       "      <td>15.910</td>\n",
       "      <td>61</td>\n",
       "      <td>15.0013</td>\n",
       "      <td>4</td>\n",
       "      <td>164</td>\n",
       "      <td>168</td>\n",
       "      <td>2012</td>\n",
       "      <td>12</td>\n",
       "      <td>Wednesday</td>\n",
       "      <td>21</td>\n",
       "    </tr>\n",
       "    <tr>\n",
       "      <th>10884</th>\n",
       "      <td>2012-12-19 22:00:00</td>\n",
       "      <td>winter</td>\n",
       "      <td>0</td>\n",
       "      <td>1</td>\n",
       "      <td>1</td>\n",
       "      <td>13.94</td>\n",
       "      <td>17.425</td>\n",
       "      <td>61</td>\n",
       "      <td>6.0032</td>\n",
       "      <td>12</td>\n",
       "      <td>117</td>\n",
       "      <td>129</td>\n",
       "      <td>2012</td>\n",
       "      <td>12</td>\n",
       "      <td>Wednesday</td>\n",
       "      <td>22</td>\n",
       "    </tr>\n",
       "    <tr>\n",
       "      <th>10885</th>\n",
       "      <td>2012-12-19 23:00:00</td>\n",
       "      <td>winter</td>\n",
       "      <td>0</td>\n",
       "      <td>1</td>\n",
       "      <td>1</td>\n",
       "      <td>13.12</td>\n",
       "      <td>16.665</td>\n",
       "      <td>66</td>\n",
       "      <td>8.9981</td>\n",
       "      <td>4</td>\n",
       "      <td>84</td>\n",
       "      <td>88</td>\n",
       "      <td>2012</td>\n",
       "      <td>12</td>\n",
       "      <td>Wednesday</td>\n",
       "      <td>23</td>\n",
       "    </tr>\n",
       "  </tbody>\n",
       "</table>\n",
       "<p>10886 rows × 16 columns</p>\n",
       "</div>"
      ],
      "text/plain": [
       "                 datetime  season  holiday  workingday  weather   temp  \\\n",
       "0     2011-01-01 00:00:00  spring        0           0        1   9.84   \n",
       "1     2011-01-01 01:00:00  spring        0           0        1   9.02   \n",
       "2     2011-01-01 02:00:00  spring        0           0        1   9.02   \n",
       "3     2011-01-01 03:00:00  spring        0           0        1   9.84   \n",
       "4     2011-01-01 04:00:00  spring        0           0        1   9.84   \n",
       "...                   ...     ...      ...         ...      ...    ...   \n",
       "10881 2012-12-19 19:00:00  winter        0           1        1  15.58   \n",
       "10882 2012-12-19 20:00:00  winter        0           1        1  14.76   \n",
       "10883 2012-12-19 21:00:00  winter        0           1        1  13.94   \n",
       "10884 2012-12-19 22:00:00  winter        0           1        1  13.94   \n",
       "10885 2012-12-19 23:00:00  winter        0           1        1  13.12   \n",
       "\n",
       "        atemp  humidity  windspeed  casual  registered  count  year  month  \\\n",
       "0      14.395        81     0.0000       3          13     16  2011      1   \n",
       "1      13.635        80     0.0000       8          32     40  2011      1   \n",
       "2      13.635        80     0.0000       5          27     32  2011      1   \n",
       "3      14.395        75     0.0000       3          10     13  2011      1   \n",
       "4      14.395        75     0.0000       0           1      1  2011      1   \n",
       "...       ...       ...        ...     ...         ...    ...   ...    ...   \n",
       "10881  19.695        50    26.0027       7         329    336  2012     12   \n",
       "10882  17.425        57    15.0013      10         231    241  2012     12   \n",
       "10883  15.910        61    15.0013       4         164    168  2012     12   \n",
       "10884  17.425        61     6.0032      12         117    129  2012     12   \n",
       "10885  16.665        66     8.9981       4          84     88  2012     12   \n",
       "\n",
       "      day_of_week  hour  \n",
       "0        Saturday     0  \n",
       "1        Saturday     1  \n",
       "2        Saturday     2  \n",
       "3        Saturday     3  \n",
       "4        Saturday     4  \n",
       "...           ...   ...  \n",
       "10881   Wednesday    19  \n",
       "10882   Wednesday    20  \n",
       "10883   Wednesday    21  \n",
       "10884   Wednesday    22  \n",
       "10885   Wednesday    23  \n",
       "\n",
       "[10886 rows x 16 columns]"
      ]
     },
     "execution_count": 10,
     "metadata": {},
     "output_type": "execute_result"
    }
   ],
   "source": [
    "df"
   ]
  },
  {
   "cell_type": "markdown",
   "id": "584c1d94-7713-4cdc-8c1e-25d628b4412e",
   "metadata": {},
   "source": [
    "### 5.Calculate the total number of casual and registered bikes rented in the years 2011 and 2012."
   ]
  },
  {
   "cell_type": "code",
   "execution_count": 11,
   "id": "f11424d2-a628-41b3-90e6-7df100eb19d4",
   "metadata": {},
   "outputs": [
    {
     "name": "stdout",
     "output_type": "stream",
     "text": [
      "      casual  registered\n",
      "year                    \n",
      "2011  155817      626162\n",
      "2012  236318     1067179\n"
     ]
    }
   ],
   "source": [
    "rentals_by_year = df.groupby('year')[['casual', 'registered']].sum()\n",
    "print(rentals_by_year)"
   ]
  },
  {
   "cell_type": "markdown",
   "id": "5431da94-c34f-413c-bbb4-c019cd135995",
   "metadata": {},
   "source": [
    "### 6.Calculate the mean of the hourly total rentals count by season. Which season has the highest mean ?"
   ]
  },
  {
   "cell_type": "code",
   "execution_count": 35,
   "id": "b285c814-4ad6-467e-9fde-3155ed572ff9",
   "metadata": {},
   "outputs": [
    {
     "data": {
      "text/plain": [
       "season\n",
       "fall      234.417124\n",
       "spring    116.343261\n",
       "summer    215.251372\n",
       "winter    198.988296\n",
       "Name: count, dtype: float64"
      ]
     },
     "execution_count": 35,
     "metadata": {},
     "output_type": "execute_result"
    }
   ],
   "source": [
    "df.groupby('season')['count'].mean()"
   ]
  },
  {
   "cell_type": "markdown",
   "id": "2a970c19-8e5f-49f3-95dd-772af706e903",
   "metadata": {},
   "source": [
    "#### Fall is the season that has the highest mean"
   ]
  },
  {
   "cell_type": "markdown",
   "id": "2f005ca6-804e-4cde-9843-e1ed69821dcc",
   "metadata": {},
   "source": [
    "### 7.Are more bikes rented by registered users on working or non-working days ? Does the answer differ for non-registered users ? Is the answer the same for both years ?"
   ]
  },
  {
   "cell_type": "code",
   "execution_count": 13,
   "id": "67c7769c-8c69-46e2-a7e7-38f11c815e6c",
   "metadata": {},
   "outputs": [
    {
     "name": "stdout",
     "output_type": "stream",
     "text": [
      "            registered\n",
      "workingday            \n",
      "0               448835\n",
      "1              1244506\n"
     ]
    }
   ],
   "source": [
    "working_day_rentals = df.groupby(['workingday']) [['registered']].sum()\n",
    "print(working_day_rentals)"
   ]
  },
  {
   "cell_type": "markdown",
   "id": "5ef4844e-13e9-4cda-9401-f674d66b0e10",
   "metadata": {},
   "source": [
    "#### Bikes rented by registered users on working days are more than non-working days. "
   ]
  },
  {
   "cell_type": "code",
   "execution_count": 14,
   "id": "8c63d89a-78ce-4bb3-a4c5-f9608526ea16",
   "metadata": {},
   "outputs": [
    {
     "name": "stdout",
     "output_type": "stream",
     "text": [
      "            casual\n",
      "workingday        \n",
      "0           206037\n",
      "1           186098\n"
     ]
    }
   ],
   "source": [
    "working_day_rentals = df.groupby(['workingday']) [['casual']].sum()\n",
    "print(working_day_rentals)"
   ]
  },
  {
   "cell_type": "markdown",
   "id": "b745c259-59b2-4141-8093-4c5eb02e8da5",
   "metadata": {},
   "source": [
    "#### Yes the the answer does differ for non-registered users"
   ]
  },
  {
   "cell_type": "code",
   "execution_count": 15,
   "id": "88dafcca-2169-496e-84b3-f25a5811015d",
   "metadata": {
    "scrolled": true
   },
   "outputs": [
    {
     "name": "stdout",
     "output_type": "stream",
     "text": [
      "Registered Rentals by Year and Working Day:\n",
      " year  workingday\n",
      "2011  0             167492\n",
      "      1             458670\n",
      "2012  0             281343\n",
      "      1             785836\n",
      "Name: registered, dtype: int64\n",
      "Casual Rentals by Year and Working Day:\n",
      " year  workingday\n",
      "2011  0              83099\n",
      "      1              72718\n",
      "2012  0             122938\n",
      "      1             113380\n",
      "Name: casual, dtype: int64\n"
     ]
    }
   ],
   "source": [
    "# Ensure datetime column is in datetime format\n",
    "df['datetime'] = pd.to_datetime(df['datetime'])\n",
    "\n",
    "# Extract year from the datetime column\n",
    "df['year'] = df['datetime'].dt.year\n",
    "\n",
    "# Sum registered and casual rentals grouped by year and workingday\n",
    "registered_by_year = df.groupby(['year', 'workingday'])['registered'].sum()\n",
    "casual_by_year = df.groupby(['year', 'workingday'])['casual'].sum()\n",
    "\n",
    "# Display results\n",
    "print(\"Registered Rentals by Year and Working Day:\\n\", registered_by_year)\n",
    "print(\"Casual Rentals by Year and Working Day:\\n\", casual_by_year)\n"
   ]
  },
  {
   "cell_type": "code",
   "execution_count": 26,
   "id": "48b78eb8-aeb4-4d04-977a-7f4248abdee0",
   "metadata": {},
   "outputs": [
    {
     "data": {
      "text/plain": [
       "0.7325101171901202"
      ]
     },
     "execution_count": 26,
     "metadata": {},
     "output_type": "execute_result"
    }
   ],
   "source": [
    "# Registered\n",
    "#2011\n",
    "(458670)/(167492+458670)"
   ]
  },
  {
   "cell_type": "code",
   "execution_count": 27,
   "id": "5a55ca74-0ef1-49ef-b91b-f5c9fe133251",
   "metadata": {},
   "outputs": [
    {
     "data": {
      "text/plain": [
       "0.7363675634546781"
      ]
     },
     "execution_count": 27,
     "metadata": {},
     "output_type": "execute_result"
    }
   ],
   "source": [
    "#2012\n",
    "(785836)/(281343+785836)"
   ]
  },
  {
   "cell_type": "code",
   "execution_count": 28,
   "id": "9e93cecc-95c4-4bbb-9f2e-9c037f56dccc",
   "metadata": {},
   "outputs": [
    {
     "data": {
      "text/plain": [
       "0.46668848713555006"
      ]
     },
     "execution_count": 28,
     "metadata": {},
     "output_type": "execute_result"
    }
   ],
   "source": [
    "# Casual \n",
    "# 2011\n",
    "(72718)/(83099+72718)"
   ]
  },
  {
   "cell_type": "code",
   "execution_count": 25,
   "id": "bbbf752c-2ea0-48a8-9c41-949102e034d0",
   "metadata": {},
   "outputs": [
    {
     "data": {
      "text/plain": [
       "0.47977724929967247"
      ]
     },
     "execution_count": 25,
     "metadata": {},
     "output_type": "execute_result"
    }
   ],
   "source": [
    "#2012\n",
    "(113380)/(122938+113380)"
   ]
  },
  {
   "cell_type": "markdown",
   "id": "62927d1e-9b33-481d-9c0e-c43cfb8b53bb",
   "metadata": {},
   "source": [
    "#### The results for both years for the registered users are not different, it is approximately 73% for both years. It is the same for the casual users approximately 47% in 2011 and 48% in 2012 (a slight difference)."
   ]
  },
  {
   "cell_type": "markdown",
   "id": "13472cf0-deb8-4c61-8322-615e40620bdf",
   "metadata": {},
   "source": [
    "### 8.Which months in the year 2011 have the highest and the lowest total number of bikes rented ? Repeat for the year 2012."
   ]
  },
  {
   "cell_type": "code",
   "execution_count": 16,
   "id": "1637f7d9-5b34-45d7-94fd-bd20cffb41ae",
   "metadata": {},
   "outputs": [
    {
     "name": "stdout",
     "output_type": "stream",
     "text": [
      "month\n",
      "1     23552\n",
      "2     32844\n",
      "3     38735\n",
      "4     50517\n",
      "5     79713\n",
      "6     89776\n",
      "7     92848\n",
      "8     83296\n",
      "9     79104\n",
      "10    79522\n",
      "11    70889\n",
      "12    61183\n",
      "Name: count, dtype: int64\n"
     ]
    }
   ],
   "source": [
    "rentals_2011 = df[df['year'] == 2011].groupby('month')['count'].sum()\n",
    "print(rentals_2011)"
   ]
  },
  {
   "cell_type": "markdown",
   "id": "cdf833c6-23e1-40bf-b5cb-70501e5179d0",
   "metadata": {},
   "source": [
    "#### Highest total numbers of bike rented = July \n",
    "#### Lowest total numbers of bike rented = January "
   ]
  },
  {
   "cell_type": "code",
   "execution_count": 17,
   "id": "36c8ab50-9c36-41f7-88f1-c52cb53b9828",
   "metadata": {},
   "outputs": [
    {
     "name": "stdout",
     "output_type": "stream",
     "text": [
      "month\n",
      "1      56332\n",
      "2      66269\n",
      "3      94766\n",
      "4     116885\n",
      "5     120434\n",
      "6     130957\n",
      "7     121769\n",
      "8     130220\n",
      "9     133425\n",
      "10    127912\n",
      "11    105551\n",
      "12     98977\n",
      "Name: count, dtype: int64\n"
     ]
    }
   ],
   "source": [
    "rentals_2012 = df[df['year'] == 2012].groupby('month')['count'].sum()\n",
    "print(rentals_2012)"
   ]
  },
  {
   "cell_type": "markdown",
   "id": "c4033ddd-d6b3-4cbb-a8fd-f001664b1129",
   "metadata": {},
   "source": [
    "#### Highest total numbers of bike rented = September \n",
    "#### Lowest total numbers of bike rented = January "
   ]
  },
  {
   "cell_type": "markdown",
   "id": "f4c86dc9-1dc9-45e1-b7c5-a6ad44fb9415",
   "metadata": {},
   "source": [
    "### 9.Which type of weather have the highest and lowest mean of the hourly total rentals count ?"
   ]
  },
  {
   "cell_type": "code",
   "execution_count": 18,
   "id": "46065666-f259-407b-8e83-ea5c8ac083b1",
   "metadata": {},
   "outputs": [
    {
     "name": "stdout",
     "output_type": "stream",
     "text": [
      "weather\n",
      "1    205.236791\n",
      "2    178.955540\n",
      "3    118.846333\n",
      "4    164.000000\n",
      "Name: count, dtype: float64\n",
      "1\n",
      "3\n"
     ]
    }
   ],
   "source": [
    "mean_rentals_by_weather = df.groupby('weather')['count'].mean()\n",
    "highest_weather = mean_rentals_by_weather.idxmax()\n",
    "lowest_weather = mean_rentals_by_weather.idxmin()\n",
    "print(mean_rentals_by_weather)\n",
    "print(highest_weather)  \n",
    "print(lowest_weather)"
   ]
  },
  {
   "cell_type": "markdown",
   "id": "8a84224e-2f39-4866-b062-dc009a254d27",
   "metadata": {},
   "source": [
    "#### Highest mean of the hourly total rentals count = weather type 1\n",
    "#### lowest mean of the hourly total rentals count = weather type 3"
   ]
  },
  {
   "cell_type": "markdown",
   "id": "564cd1b6-d418-43d0-a58e-ce3ca8c6ebae",
   "metadata": {},
   "source": [
    "### 10.Calculate the correlation between the hourly total rentals count and all the numerical columns in the dataset. Which column has the highest correlation with the total rentals count ?"
   ]
  },
  {
   "cell_type": "code",
   "execution_count": 19,
   "id": "9c15e49b-db58-4ea6-95b8-44635a202e1c",
   "metadata": {},
   "outputs": [],
   "source": [
    "import numpy as np"
   ]
  },
  {
   "cell_type": "code",
   "execution_count": 20,
   "id": "767ddab0-1733-4635-8cc0-d8e0405c9527",
   "metadata": {},
   "outputs": [],
   "source": [
    "num=df.select_dtypes(include=np.number)"
   ]
  },
  {
   "cell_type": "code",
   "execution_count": 21,
   "id": "16437354-9ad2-4ba2-a3b5-b101cea7c3d5",
   "metadata": {},
   "outputs": [],
   "source": [
    "correlations = num.corr()"
   ]
  },
  {
   "cell_type": "code",
   "execution_count": 22,
   "id": "4ad34639-0ef3-44c5-9ca4-e38ab070fbbd",
   "metadata": {},
   "outputs": [
    {
     "name": "stdout",
     "output_type": "stream",
     "text": [
      "count         1.000000\n",
      "registered    0.970948\n",
      "casual        0.690414\n",
      "hour          0.400601\n",
      "temp          0.394454\n",
      "atemp         0.389784\n",
      "year          0.260403\n",
      "month         0.166862\n",
      "windspeed     0.101369\n",
      "workingday    0.011594\n",
      "holiday      -0.005393\n",
      "weather      -0.128655\n",
      "humidity     -0.317371\n",
      "Name: count, dtype: float64\n"
     ]
    }
   ],
   "source": [
    "print(correlations['count'].sort_values(ascending=False))"
   ]
  },
  {
   "cell_type": "markdown",
   "id": "6fee167e-47c9-4486-b22f-89d5704fbeea",
   "metadata": {},
   "source": [
    "#### The column with the highest correlation with the count (total rentals) is the registered column, with a correlation value of 0.970948. This indicates strong positive correlation.\n",
    "\n"
   ]
  },
  {
   "cell_type": "markdown",
   "id": "2b496834-5dc1-4097-b164-683970e5b5b1",
   "metadata": {},
   "source": [
    "### 11.Create a new categorical column called day_period, which can take four possible values: night, morning, afternoon and evening. These values correspond to the following binning of the hour column: 0-6: night, 6-12: morning, 12-6: afternoon, 6-24:evening."
   ]
  },
  {
   "cell_type": "code",
   "execution_count": 23,
   "id": "b2d3e1de-16c3-4893-825e-f9dccaab8218",
   "metadata": {},
   "outputs": [
    {
     "data": {
      "text/html": [
       "<div>\n",
       "<style scoped>\n",
       "    .dataframe tbody tr th:only-of-type {\n",
       "        vertical-align: middle;\n",
       "    }\n",
       "\n",
       "    .dataframe tbody tr th {\n",
       "        vertical-align: top;\n",
       "    }\n",
       "\n",
       "    .dataframe thead th {\n",
       "        text-align: right;\n",
       "    }\n",
       "</style>\n",
       "<table border=\"1\" class=\"dataframe\">\n",
       "  <thead>\n",
       "    <tr style=\"text-align: right;\">\n",
       "      <th></th>\n",
       "      <th>datetime</th>\n",
       "      <th>season</th>\n",
       "      <th>holiday</th>\n",
       "      <th>workingday</th>\n",
       "      <th>weather</th>\n",
       "      <th>temp</th>\n",
       "      <th>atemp</th>\n",
       "      <th>humidity</th>\n",
       "      <th>windspeed</th>\n",
       "      <th>casual</th>\n",
       "      <th>registered</th>\n",
       "      <th>count</th>\n",
       "      <th>year</th>\n",
       "      <th>month</th>\n",
       "      <th>day_of_week</th>\n",
       "      <th>hour</th>\n",
       "      <th>day_period</th>\n",
       "    </tr>\n",
       "  </thead>\n",
       "  <tbody>\n",
       "    <tr>\n",
       "      <th>0</th>\n",
       "      <td>2011-01-01 00:00:00</td>\n",
       "      <td>spring</td>\n",
       "      <td>0</td>\n",
       "      <td>0</td>\n",
       "      <td>1</td>\n",
       "      <td>9.84</td>\n",
       "      <td>14.395</td>\n",
       "      <td>81</td>\n",
       "      <td>0.0000</td>\n",
       "      <td>3</td>\n",
       "      <td>13</td>\n",
       "      <td>16</td>\n",
       "      <td>2011</td>\n",
       "      <td>1</td>\n",
       "      <td>Saturday</td>\n",
       "      <td>0</td>\n",
       "      <td>night</td>\n",
       "    </tr>\n",
       "    <tr>\n",
       "      <th>1</th>\n",
       "      <td>2011-01-01 01:00:00</td>\n",
       "      <td>spring</td>\n",
       "      <td>0</td>\n",
       "      <td>0</td>\n",
       "      <td>1</td>\n",
       "      <td>9.02</td>\n",
       "      <td>13.635</td>\n",
       "      <td>80</td>\n",
       "      <td>0.0000</td>\n",
       "      <td>8</td>\n",
       "      <td>32</td>\n",
       "      <td>40</td>\n",
       "      <td>2011</td>\n",
       "      <td>1</td>\n",
       "      <td>Saturday</td>\n",
       "      <td>1</td>\n",
       "      <td>night</td>\n",
       "    </tr>\n",
       "    <tr>\n",
       "      <th>2</th>\n",
       "      <td>2011-01-01 02:00:00</td>\n",
       "      <td>spring</td>\n",
       "      <td>0</td>\n",
       "      <td>0</td>\n",
       "      <td>1</td>\n",
       "      <td>9.02</td>\n",
       "      <td>13.635</td>\n",
       "      <td>80</td>\n",
       "      <td>0.0000</td>\n",
       "      <td>5</td>\n",
       "      <td>27</td>\n",
       "      <td>32</td>\n",
       "      <td>2011</td>\n",
       "      <td>1</td>\n",
       "      <td>Saturday</td>\n",
       "      <td>2</td>\n",
       "      <td>night</td>\n",
       "    </tr>\n",
       "    <tr>\n",
       "      <th>3</th>\n",
       "      <td>2011-01-01 03:00:00</td>\n",
       "      <td>spring</td>\n",
       "      <td>0</td>\n",
       "      <td>0</td>\n",
       "      <td>1</td>\n",
       "      <td>9.84</td>\n",
       "      <td>14.395</td>\n",
       "      <td>75</td>\n",
       "      <td>0.0000</td>\n",
       "      <td>3</td>\n",
       "      <td>10</td>\n",
       "      <td>13</td>\n",
       "      <td>2011</td>\n",
       "      <td>1</td>\n",
       "      <td>Saturday</td>\n",
       "      <td>3</td>\n",
       "      <td>night</td>\n",
       "    </tr>\n",
       "    <tr>\n",
       "      <th>4</th>\n",
       "      <td>2011-01-01 04:00:00</td>\n",
       "      <td>spring</td>\n",
       "      <td>0</td>\n",
       "      <td>0</td>\n",
       "      <td>1</td>\n",
       "      <td>9.84</td>\n",
       "      <td>14.395</td>\n",
       "      <td>75</td>\n",
       "      <td>0.0000</td>\n",
       "      <td>0</td>\n",
       "      <td>1</td>\n",
       "      <td>1</td>\n",
       "      <td>2011</td>\n",
       "      <td>1</td>\n",
       "      <td>Saturday</td>\n",
       "      <td>4</td>\n",
       "      <td>night</td>\n",
       "    </tr>\n",
       "    <tr>\n",
       "      <th>...</th>\n",
       "      <td>...</td>\n",
       "      <td>...</td>\n",
       "      <td>...</td>\n",
       "      <td>...</td>\n",
       "      <td>...</td>\n",
       "      <td>...</td>\n",
       "      <td>...</td>\n",
       "      <td>...</td>\n",
       "      <td>...</td>\n",
       "      <td>...</td>\n",
       "      <td>...</td>\n",
       "      <td>...</td>\n",
       "      <td>...</td>\n",
       "      <td>...</td>\n",
       "      <td>...</td>\n",
       "      <td>...</td>\n",
       "      <td>...</td>\n",
       "    </tr>\n",
       "    <tr>\n",
       "      <th>10881</th>\n",
       "      <td>2012-12-19 19:00:00</td>\n",
       "      <td>winter</td>\n",
       "      <td>0</td>\n",
       "      <td>1</td>\n",
       "      <td>1</td>\n",
       "      <td>15.58</td>\n",
       "      <td>19.695</td>\n",
       "      <td>50</td>\n",
       "      <td>26.0027</td>\n",
       "      <td>7</td>\n",
       "      <td>329</td>\n",
       "      <td>336</td>\n",
       "      <td>2012</td>\n",
       "      <td>12</td>\n",
       "      <td>Wednesday</td>\n",
       "      <td>19</td>\n",
       "      <td>evening</td>\n",
       "    </tr>\n",
       "    <tr>\n",
       "      <th>10882</th>\n",
       "      <td>2012-12-19 20:00:00</td>\n",
       "      <td>winter</td>\n",
       "      <td>0</td>\n",
       "      <td>1</td>\n",
       "      <td>1</td>\n",
       "      <td>14.76</td>\n",
       "      <td>17.425</td>\n",
       "      <td>57</td>\n",
       "      <td>15.0013</td>\n",
       "      <td>10</td>\n",
       "      <td>231</td>\n",
       "      <td>241</td>\n",
       "      <td>2012</td>\n",
       "      <td>12</td>\n",
       "      <td>Wednesday</td>\n",
       "      <td>20</td>\n",
       "      <td>evening</td>\n",
       "    </tr>\n",
       "    <tr>\n",
       "      <th>10883</th>\n",
       "      <td>2012-12-19 21:00:00</td>\n",
       "      <td>winter</td>\n",
       "      <td>0</td>\n",
       "      <td>1</td>\n",
       "      <td>1</td>\n",
       "      <td>13.94</td>\n",
       "      <td>15.910</td>\n",
       "      <td>61</td>\n",
       "      <td>15.0013</td>\n",
       "      <td>4</td>\n",
       "      <td>164</td>\n",
       "      <td>168</td>\n",
       "      <td>2012</td>\n",
       "      <td>12</td>\n",
       "      <td>Wednesday</td>\n",
       "      <td>21</td>\n",
       "      <td>evening</td>\n",
       "    </tr>\n",
       "    <tr>\n",
       "      <th>10884</th>\n",
       "      <td>2012-12-19 22:00:00</td>\n",
       "      <td>winter</td>\n",
       "      <td>0</td>\n",
       "      <td>1</td>\n",
       "      <td>1</td>\n",
       "      <td>13.94</td>\n",
       "      <td>17.425</td>\n",
       "      <td>61</td>\n",
       "      <td>6.0032</td>\n",
       "      <td>12</td>\n",
       "      <td>117</td>\n",
       "      <td>129</td>\n",
       "      <td>2012</td>\n",
       "      <td>12</td>\n",
       "      <td>Wednesday</td>\n",
       "      <td>22</td>\n",
       "      <td>evening</td>\n",
       "    </tr>\n",
       "    <tr>\n",
       "      <th>10885</th>\n",
       "      <td>2012-12-19 23:00:00</td>\n",
       "      <td>winter</td>\n",
       "      <td>0</td>\n",
       "      <td>1</td>\n",
       "      <td>1</td>\n",
       "      <td>13.12</td>\n",
       "      <td>16.665</td>\n",
       "      <td>66</td>\n",
       "      <td>8.9981</td>\n",
       "      <td>4</td>\n",
       "      <td>84</td>\n",
       "      <td>88</td>\n",
       "      <td>2012</td>\n",
       "      <td>12</td>\n",
       "      <td>Wednesday</td>\n",
       "      <td>23</td>\n",
       "      <td>evening</td>\n",
       "    </tr>\n",
       "  </tbody>\n",
       "</table>\n",
       "<p>10886 rows × 17 columns</p>\n",
       "</div>"
      ],
      "text/plain": [
       "                 datetime  season  holiday  workingday  weather   temp  \\\n",
       "0     2011-01-01 00:00:00  spring        0           0        1   9.84   \n",
       "1     2011-01-01 01:00:00  spring        0           0        1   9.02   \n",
       "2     2011-01-01 02:00:00  spring        0           0        1   9.02   \n",
       "3     2011-01-01 03:00:00  spring        0           0        1   9.84   \n",
       "4     2011-01-01 04:00:00  spring        0           0        1   9.84   \n",
       "...                   ...     ...      ...         ...      ...    ...   \n",
       "10881 2012-12-19 19:00:00  winter        0           1        1  15.58   \n",
       "10882 2012-12-19 20:00:00  winter        0           1        1  14.76   \n",
       "10883 2012-12-19 21:00:00  winter        0           1        1  13.94   \n",
       "10884 2012-12-19 22:00:00  winter        0           1        1  13.94   \n",
       "10885 2012-12-19 23:00:00  winter        0           1        1  13.12   \n",
       "\n",
       "        atemp  humidity  windspeed  casual  registered  count  year  month  \\\n",
       "0      14.395        81     0.0000       3          13     16  2011      1   \n",
       "1      13.635        80     0.0000       8          32     40  2011      1   \n",
       "2      13.635        80     0.0000       5          27     32  2011      1   \n",
       "3      14.395        75     0.0000       3          10     13  2011      1   \n",
       "4      14.395        75     0.0000       0           1      1  2011      1   \n",
       "...       ...       ...        ...     ...         ...    ...   ...    ...   \n",
       "10881  19.695        50    26.0027       7         329    336  2012     12   \n",
       "10882  17.425        57    15.0013      10         231    241  2012     12   \n",
       "10883  15.910        61    15.0013       4         164    168  2012     12   \n",
       "10884  17.425        61     6.0032      12         117    129  2012     12   \n",
       "10885  16.665        66     8.9981       4          84     88  2012     12   \n",
       "\n",
       "      day_of_week  hour day_period  \n",
       "0        Saturday     0      night  \n",
       "1        Saturday     1      night  \n",
       "2        Saturday     2      night  \n",
       "3        Saturday     3      night  \n",
       "4        Saturday     4      night  \n",
       "...           ...   ...        ...  \n",
       "10881   Wednesday    19    evening  \n",
       "10882   Wednesday    20    evening  \n",
       "10883   Wednesday    21    evening  \n",
       "10884   Wednesday    22    evening  \n",
       "10885   Wednesday    23    evening  \n",
       "\n",
       "[10886 rows x 17 columns]"
      ]
     },
     "execution_count": 23,
     "metadata": {},
     "output_type": "execute_result"
    }
   ],
   "source": [
    "def assign_period(hour):\n",
    "    if 0 <= hour < 6:\n",
    "        return 'night'\n",
    "    elif 6 <= hour < 12:\n",
    "        return 'morning'\n",
    "    elif 12 <= hour < 18:\n",
    "        return 'afternoon'\n",
    "    else:\n",
    "        return 'evening'\n",
    "\n",
    "df['day_period'] = df['hour'].apply(assign_period)\n",
    "df"
   ]
  },
  {
   "cell_type": "markdown",
   "id": "ff1b56ea-0440-4ae2-ad06-057edfdaf38e",
   "metadata": {},
   "source": [
    "### 12.Generate a pivot table for the mean of the hourly total rentals count, with the index set to the day period and the column set to the working day column. What can you observe from the table ?"
   ]
  },
  {
   "cell_type": "code",
   "execution_count": 24,
   "id": "66d74cc7-caea-49e9-b250-fa332e6eae23",
   "metadata": {},
   "outputs": [
    {
     "name": "stdout",
     "output_type": "stream",
     "text": [
      "workingday           0           1\n",
      "day_period                        \n",
      "afternoon   371.022989  266.196141\n",
      "evening     180.182759  251.054662\n",
      "morning     157.772414  234.353763\n",
      "night        44.052083   16.217582\n"
     ]
    }
   ],
   "source": [
    "pivot_table = df.pivot_table(values='count', index='day_period', columns='workingday', aggfunc='mean')\n",
    "print(pivot_table)"
   ]
  },
  {
   "cell_type": "markdown",
   "id": "5b9b6afd-2064-45d1-8656-0a48da81c5ab",
   "metadata": {},
   "source": [
    "#### Observations by Day Period:\n",
    "#### Afternoon:\n",
    "#### The highest mean rentals occur in the afternoon, especially on non-working days with an average of 371 rentals and For working days, the rentals are lower (266), likely due to people being at work during this time.\n",
    "#### Evening:\n",
    "#### On working days, the evening shows a high mean rental count of 251, second only to the afternoon. This suggests significant activity after work hours.On non-working days, the evening rentals are lower (180) compared to afternoons, indicating reduced demand as the day winds down.\n",
    "#### Morning:\n",
    "#### The rentals are higher on working days (234) compared to non-working days (157). This may reflect commuter usage on working days.\n",
    "#### Night\n",
    "#### Rentals are minimal at night for both working and non-working days, with the lowest mean rentals of 44 (non-working) and 16 (working).\n"
   ]
  }
 ],
 "metadata": {
  "kernelspec": {
   "display_name": "Python 3 (ipykernel)",
   "language": "python",
   "name": "python3"
  },
  "language_info": {
   "codemirror_mode": {
    "name": "ipython",
    "version": 3
   },
   "file_extension": ".py",
   "mimetype": "text/x-python",
   "name": "python",
   "nbconvert_exporter": "python",
   "pygments_lexer": "ipython3",
   "version": "3.12.7"
  }
 },
 "nbformat": 4,
 "nbformat_minor": 5
}
